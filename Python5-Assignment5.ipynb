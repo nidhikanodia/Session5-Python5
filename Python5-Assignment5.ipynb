{
 "cells": [
  {
   "cell_type": "code",
   "execution_count": 2,
   "metadata": {},
   "outputs": [
    {
     "name": "stdout",
     "output_type": "stream",
     "text": [
      "Division by zero error occurred\n"
     ]
    }
   ],
   "source": [
    "#Question 1\n",
    "# A function to compute 5/0 using try/except to catch the exceptions\n",
    "\n",
    "#User defined function 'compute'\n",
    "\n",
    "def compute():\n",
    "    #Put the computation step in try block\n",
    "    try:\n",
    "        #Perform divide by zero operation\n",
    "        x = 5/0\n",
    "    except ZeroDivisionError:\n",
    "        #Catch 'Divide by zero' error\n",
    "        print(\"'Division by zero' error occurred\")\n",
    "        \n",
    "#Call compute funtion\n",
    "compute()"
   ]
  },
  {
   "cell_type": "code",
   "execution_count": 6,
   "metadata": {},
   "outputs": [
    {
     "name": "stdout",
     "output_type": "stream",
     "text": [
      "Americans play Baseball.\n",
      "Americans play Cricket.\n",
      "Americans watch Baseball.\n",
      "Americans watch Cricket.\n",
      "Indians play Baseball.\n",
      "Indians play Cricket.\n",
      "Indians watch Baseball.\n",
      "Indians watch Cricket.\n"
     ]
    }
   ],
   "source": [
    "#Question 2\n",
    "#A Python program to generate all sentences where subject is in [\"Americans\",\"Indians\"] and verb is in [\"Play\", \"watch\"] and the object is in [\"Baseball\",\"cricket\"].\n",
    "\n",
    "#Initialize the lists\n",
    "subjects=[\"Americans\",\"Indians\"]\n",
    "verbs=[\"play\",\"watch\"]\n",
    "objects=[\"Baseball\",\"Cricket\"]\n",
    "\n",
    "#Use nested for loop to iterate over each list and print the sentences\n",
    "for subject in subjects:\n",
    "    for verb in verbs:\n",
    "        for object in objects:\n",
    "            #Concatenate all to form a sentence\n",
    "            print(subject + \" \" + verb + \" \" + object + \".\")"
   ]
  },
  {
   "cell_type": "code",
   "execution_count": null,
   "metadata": {},
   "outputs": [],
   "source": []
  }
 ],
 "metadata": {
  "kernelspec": {
   "display_name": "Python 3",
   "language": "python",
   "name": "python3"
  },
  "language_info": {
   "codemirror_mode": {
    "name": "ipython",
    "version": 3
   },
   "file_extension": ".py",
   "mimetype": "text/x-python",
   "name": "python",
   "nbconvert_exporter": "python",
   "pygments_lexer": "ipython3",
   "version": "3.7.0"
  }
 },
 "nbformat": 4,
 "nbformat_minor": 2
}
